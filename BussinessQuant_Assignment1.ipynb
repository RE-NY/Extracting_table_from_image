{
  "nbformat": 4,
  "nbformat_minor": 0,
  "metadata": {
    "colab": {
      "provenance": [],
      "gpuType": "T4",
      "authorship_tag": "ABX9TyONhi0O9zFaIFl3/CAedm0f",
      "include_colab_link": true
    },
    "kernelspec": {
      "name": "python3",
      "display_name": "Python 3"
    },
    "language_info": {
      "name": "python"
    },
    "accelerator": "GPU"
  },
  "cells": [
    {
      "cell_type": "markdown",
      "metadata": {
        "id": "view-in-github",
        "colab_type": "text"
      },
      "source": [
        "<a href=\"https://colab.research.google.com/github/RE-NY/Extracting_table_from_image/blob/main/BussinessQuant_Assignment1.ipynb\" target=\"_parent\"><img src=\"https://colab.research.google.com/assets/colab-badge.svg\" alt=\"Open In Colab\"/></a>"
      ]
    },
    {
      "cell_type": "markdown",
      "source": [
        "## Table recognition from jpg images\n",
        "we will use openCV and paddleOCR library and their deep learning models to extract the table from image and save it in csv format."
      ],
      "metadata": {
        "id": "DoNLu3Vz8Ddi"
      }
    },
    {
      "cell_type": "code",
      "source": [
        "!python3 -m pip install paddlepaddle-gpu\n",
        "!pip install \"paddleocr>=2.0.1\"\n",
        "!pip install protobuf==3.20.0\n",
        "!git clone https://github.com/PaddlePaddle/PaddleOCR.git"
      ],
      "metadata": {
        "id": "xdV_EbcwOtwg"
      },
      "execution_count": null,
      "outputs": []
    },
    {
      "cell_type": "code",
      "source": [
        "!wget https://paddleocr.bj.bcebos.com/whl/layoutparser-0.0.0-py3-none-any.whl\n",
        "!pip install -U layoutparser-0.0.0-py3-none-any.whl"
      ],
      "metadata": {
        "id": "uAjk0mJnO9zu"
      },
      "execution_count": null,
      "outputs": []
    },
    {
      "cell_type": "markdown",
      "source": [
        "### Table Extraction\n",
        "Enter the path of image to be used below in cv2.imread() function."
      ],
      "metadata": {
        "id": "X_KKEVh9O90L"
      }
    },
    {
      "cell_type": "code",
      "source": [
        "import cv2\n",
        "import layoutparser as lp\n",
        "image = cv2.imread(\"/content/image00013.jpg\") # Enter the path of image.....\n",
        "\n",
        "image = image[..., ::-1]\n",
        "\n",
        "# load model\n",
        "model = lp.PaddleDetectionLayoutModel(config_path=\"lp://PubLayNet/ppyolov2_r50vd_dcn_365e_publaynet/config\",\n",
        "                                threshold=0.5,\n",
        "                                label_map={0: \"Text\", 1: \"Title\", 2: \"List\", 3:\"Table\", 4:\"Figure\"},\n",
        "                                enforce_cpu=False,\n",
        "                                enable_mkldnn=True)#math kernel library\n",
        "# detect\n",
        "layout = model.detect(image)"
      ],
      "metadata": {
        "id": "YkhrtpCrO92F"
      },
      "execution_count": null,
      "outputs": []
    },
    {
      "cell_type": "code",
      "source": [
        "x_1=0\n",
        "y_1=0\n",
        "x_2=0\n",
        "y_2=0\n",
        "\n",
        "for l in layout:\n",
        "  #print(l)\n",
        "  if l.type == 'Table':\n",
        "    x_1 = int(l.block.x_1)\n",
        "    print(l.block.x_1)\n",
        "    y_1 = int(l.block.y_1)\n",
        "    x_2 = int(l.block.x_2)\n",
        "    y_2 = int(l.block.y_2)\n",
        "\n",
        "    break"
      ],
      "metadata": {
        "id": "PCAdD_nKO94U"
      },
      "execution_count": null,
      "outputs": []
    },
    {
      "cell_type": "code",
      "source": [
        "im = cv2.imread('/content/image00016.jpg')\n",
        "cv2.imwrite('ext_im.jpg', im[y_1:y_2,x_1:x_2])"
      ],
      "metadata": {
        "id": "-pryN5VPPNPC"
      },
      "execution_count": null,
      "outputs": []
    },
    {
      "cell_type": "markdown",
      "source": [
        "### Text detection and Recognition"
      ],
      "metadata": {
        "id": "5OrgIo0PPNPq"
      }
    },
    {
      "cell_type": "code",
      "source": [
        "from paddleocr import PaddleOCR, draw_ocr"
      ],
      "metadata": {
        "id": "bPhdrzKMPNRX"
      },
      "execution_count": null,
      "outputs": []
    },
    {
      "cell_type": "code",
      "source": [
        "ocr = PaddleOCR(lang='en')\n",
        "image_path = '/content/ext_im.jpg'\n",
        "image_cv = cv2.imread(image_path)\n",
        "image_height = image_cv.shape[0]\n",
        "image_width = image_cv.shape[1]\n",
        "output = ocr.ocr(image_path)[0]"
      ],
      "metadata": {
        "id": "HP7TvvYJPNTo"
      },
      "execution_count": null,
      "outputs": []
    },
    {
      "cell_type": "code",
      "source": [
        "boxes = [line[0] for line in output]\n",
        "texts = [line[1][0] for line in output]\n",
        "probabilities = [line[1][1] for line in output]"
      ],
      "metadata": {
        "id": "R1AWuvfYPNV1"
      },
      "execution_count": null,
      "outputs": []
    },
    {
      "cell_type": "code",
      "source": [
        "image_boxes = image_cv.copy()\n"
      ],
      "metadata": {
        "id": "_1Hne3GWPNYM"
      },
      "execution_count": null,
      "outputs": []
    },
    {
      "cell_type": "code",
      "source": [
        "for box,text in zip(boxes,texts):\n",
        "  cv2.rectangle(image_boxes, (int(box[0][0]),int(box[0][1])), (int(box[2][0]),int(box[2][1])),(0,0,255),1)\n",
        "  cv2.putText(image_boxes, text,(int(box[0][0]),int(box[0][1])),cv2.FONT_HERSHEY_SIMPLEX,1,(222,0,0),1)"
      ],
      "metadata": {
        "id": "rJxOpe5KPNaL"
      },
      "execution_count": null,
      "outputs": []
    },
    {
      "cell_type": "code",
      "source": [
        "cv2.imwrite('detections.jpg', image_boxes)"
      ],
      "metadata": {
        "id": "cGDW1F65PNcc"
      },
      "execution_count": null,
      "outputs": []
    },
    {
      "cell_type": "markdown",
      "source": [
        "### Reconstruction"
      ],
      "metadata": {
        "id": "MxMLXQ18PNe4"
      }
    },
    {
      "cell_type": "markdown",
      "source": [
        "#### Get Horizontal and Vertical Lines"
      ],
      "metadata": {
        "id": "C86j8yDUPwp2"
      }
    },
    {
      "cell_type": "code",
      "source": [
        "im = image_cv.copy()\n",
        "\n",
        "\n",
        "horiz_boxes = []\n",
        "vert_boxes = []\n",
        "\n",
        "for box in boxes:\n",
        "  x_h, x_v = 0,int(box[0][0])\n",
        "  y_h, y_v = int(box[0][1]),0\n",
        "  width_h,width_v = image_width, int(box[2][0]-box[0][0])\n",
        "  height_h,height_v = int(box[2][1]-box[0][1]),image_height\n",
        "\n",
        "  horiz_boxes.append([x_h,y_h,x_h+width_h,y_h+height_h])\n",
        "  vert_boxes.append([x_v,y_v,x_v+width_v,y_v+height_v])\n",
        "\n",
        "  cv2.rectangle(im,(x_h,y_h), (x_h+width_h,y_h+height_h),(0,0,255),1)\n",
        "  cv2.rectangle(im,(x_v,y_v), (x_v+width_v,y_v+height_v),(0,255,0),1)\n",
        "\n",
        "\n",
        "cv2.imwrite('horiz_vert.jpg',im)"
      ],
      "metadata": {
        "id": "67xGQ4cuP4H2"
      },
      "execution_count": null,
      "outputs": []
    },
    {
      "cell_type": "markdown",
      "source": [
        "#### Non-Max Suppression"
      ],
      "metadata": {
        "id": "WN5QxpU4P4FQ"
      }
    },
    {
      "cell_type": "code",
      "source": [
        "from PIL import Image\n",
        "import cv2\n",
        "import numpy as np\n",
        "import pandas as pd\n",
        "import tensorflow as tf"
      ],
      "metadata": {
        "id": "Fi22Lq8lP4Cy"
      },
      "execution_count": null,
      "outputs": []
    },
    {
      "cell_type": "code",
      "source": [
        "horiz_out = tf.image.non_max_suppression(\n",
        "    horiz_boxes,\n",
        "    probabilities,\n",
        "    max_output_size = 1000,\n",
        "    iou_threshold=0.1,\n",
        "    score_threshold=float('-inf'),\n",
        "    name=None\n",
        ")"
      ],
      "metadata": {
        "id": "YS-mvol2P3_7"
      },
      "execution_count": null,
      "outputs": []
    },
    {
      "cell_type": "code",
      "source": [
        "horiz_lines = np.sort(np.array(horiz_out))"
      ],
      "metadata": {
        "id": "GkfzbMjTP39o"
      },
      "execution_count": null,
      "outputs": []
    },
    {
      "cell_type": "code",
      "source": [
        "im_nms = image_cv.copy()"
      ],
      "metadata": {
        "id": "Wh3IqhtjP37E"
      },
      "execution_count": null,
      "outputs": []
    },
    {
      "cell_type": "code",
      "source": [
        "for val in horiz_lines:\n",
        "  cv2.rectangle(im_nms, (int(horiz_boxes[val][0]),int(horiz_boxes[val][1])), (int(horiz_boxes[val][2]),int(horiz_boxes[val][3])),(0,0,255),1)\n"
      ],
      "metadata": {
        "id": "Waias6vjP34n"
      },
      "execution_count": null,
      "outputs": []
    },
    {
      "cell_type": "code",
      "source": [
        "cv2.imwrite('im_nms.jpg',im_nms)"
      ],
      "metadata": {
        "id": "Zr9Hk3FwP32s"
      },
      "execution_count": null,
      "outputs": []
    },
    {
      "cell_type": "code",
      "source": [
        "vert_out = tf.image.non_max_suppression(\n",
        "    vert_boxes,\n",
        "    probabilities,\n",
        "    max_output_size = 1000,\n",
        "    iou_threshold=0.1,\n",
        "    score_threshold=float('-inf'),\n",
        "    name=None\n",
        ")"
      ],
      "metadata": {
        "id": "JMoQvoz0QVRH"
      },
      "execution_count": null,
      "outputs": []
    },
    {
      "cell_type": "code",
      "source": [
        "vert_lines = np.sort(np.array(vert_out))"
      ],
      "metadata": {
        "id": "5M3Er0ZbQVOw"
      },
      "execution_count": null,
      "outputs": []
    },
    {
      "cell_type": "code",
      "source": [
        "for val in vert_lines:\n",
        "  cv2.rectangle(im_nms, (int(vert_boxes[val][0]),int(vert_boxes[val][1])), (int(vert_boxes[val][2]),int(vert_boxes[val][3])),(255,0,0),1)\n"
      ],
      "metadata": {
        "id": "MvIK9Q0tQVMZ"
      },
      "execution_count": null,
      "outputs": []
    },
    {
      "cell_type": "code",
      "source": [
        "cv2.imwrite('im_nms.jpg',im_nms)"
      ],
      "metadata": {
        "id": "wj2ycnHmQVKU"
      },
      "execution_count": null,
      "outputs": []
    },
    {
      "cell_type": "markdown",
      "source": [
        "### Convert to CSV"
      ],
      "metadata": {
        "id": "0UB0OtWyQVHt"
      }
    },
    {
      "cell_type": "code",
      "source": [
        "out_array = [[\"\" for i in range(len(vert_lines))] for j in range(len(horiz_lines))]"
      ],
      "metadata": {
        "id": "i5sDKmMIQVFc"
      },
      "execution_count": null,
      "outputs": []
    },
    {
      "cell_type": "code",
      "source": [
        "unordered_boxes = []\n",
        "\n",
        "for i in vert_lines:\n",
        "  print(vert_boxes[i])\n",
        "  unordered_boxes.append(vert_boxes[i][0])"
      ],
      "metadata": {
        "id": "RO8XFQNTQVDY"
      },
      "execution_count": null,
      "outputs": []
    },
    {
      "cell_type": "code",
      "source": [
        "ordered_boxes = np.argsort(unordered_boxes)"
      ],
      "metadata": {
        "id": "3teJcwHIQVB0"
      },
      "execution_count": null,
      "outputs": []
    },
    {
      "cell_type": "code",
      "source": [
        "def intersection(box_1, box_2):\n",
        "  return [box_2[0], box_1[1],box_2[2], box_1[3]]\n",
        "\n",
        "\n",
        "def iou(box_1, box_2):\n",
        "\n",
        "  x_1 = max(box_1[0], box_2[0])\n",
        "  y_1 = max(box_1[1], box_2[1])\n",
        "  x_2 = min(box_1[2], box_2[2])\n",
        "  y_2 = min(box_1[3], box_2[3])\n",
        "\n",
        "  inter = abs(max((x_2 - x_1, 0)) * max((y_2 - y_1), 0))\n",
        "  if inter == 0:\n",
        "      return 0\n",
        "\n",
        "  box_1_area = abs((box_1[2] - box_1[0]) * (box_1[3] - box_1[1]))\n",
        "  box_2_area = abs((box_2[2] - box_2[0]) * (box_2[3] - box_2[1]))\n",
        "\n",
        "  return inter / float(box_1_area + box_2_area - inter)"
      ],
      "metadata": {
        "id": "jRnBcSS4QVBB"
      },
      "execution_count": null,
      "outputs": []
    },
    {
      "cell_type": "code",
      "source": [
        "for i in range(len(horiz_lines)):\n",
        "  for j in range(len(vert_lines)):\n",
        "    resultant = intersection(horiz_boxes[horiz_lines[i]], vert_boxes[vert_lines[ordered_boxes[j]]] )\n",
        "\n",
        "    for b in range(len(boxes)):\n",
        "      the_box = [boxes[b][0][0],boxes[b][0][1],boxes[b][2][0],boxes[b][2][1]]\n",
        "      if(iou(resultant,the_box)>0.1):\n",
        "        out_array[i][j] = texts[b]"
      ],
      "metadata": {
        "id": "FJNpFU8jP32J"
      },
      "execution_count": null,
      "outputs": []
    },
    {
      "cell_type": "code",
      "source": [
        "out_array=np.array(out_array)"
      ],
      "metadata": {
        "id": "jzVd1Di0Qwjy"
      },
      "execution_count": null,
      "outputs": []
    },
    {
      "cell_type": "code",
      "source": [
        "pd.DataFrame(out_array).to_csv('sample.csv') # this is the output csv..."
      ],
      "metadata": {
        "id": "AzkWST6UQwh4"
      },
      "execution_count": null,
      "outputs": []
    },
    {
      "cell_type": "code",
      "source": [],
      "metadata": {
        "id": "jGTUGgV1QwgO"
      },
      "execution_count": null,
      "outputs": []
    },
    {
      "cell_type": "code",
      "source": [],
      "metadata": {
        "id": "bTZRvLZOQwfz"
      },
      "execution_count": null,
      "outputs": []
    },
    {
      "cell_type": "code",
      "source": [],
      "metadata": {
        "id": "Fna1MHyFQwa1"
      },
      "execution_count": null,
      "outputs": []
    },
    {
      "cell_type": "code",
      "source": [],
      "metadata": {
        "id": "7NUYOr9IQwYd"
      },
      "execution_count": null,
      "outputs": []
    },
    {
      "cell_type": "code",
      "source": [],
      "metadata": {
        "id": "qbTYSi-jQwWS"
      },
      "execution_count": null,
      "outputs": []
    },
    {
      "cell_type": "code",
      "source": [],
      "metadata": {
        "id": "Se0S5I4nQwUl"
      },
      "execution_count": null,
      "outputs": []
    },
    {
      "cell_type": "code",
      "source": [],
      "metadata": {
        "id": "5TydJpspQwUC"
      },
      "execution_count": null,
      "outputs": []
    }
  ]
}